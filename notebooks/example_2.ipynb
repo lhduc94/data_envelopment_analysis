{
 "cells": [
  {
   "cell_type": "code",
   "execution_count": 1,
   "metadata": {},
   "outputs": [],
   "source": [
    "from pulp import LpMaximize, LpProblem, LpStatus, lpSum, LpVariable\n"
   ]
  },
  {
   "cell_type": "markdown",
   "metadata": {},
   "source": [
    "maximize : $169*a+119*b$\n",
    "\n",
    "st:\n",
    "\n",
    "$\n",
    "243*a + 167*b - 60*c - 45*d \\le 0 \\\\\n",
    "173*a + 158*b - 43*c - 33*d \\le 0 \\\\\n",
    "216*a + 138*b - 53*c - 43*d \\le 0 \\\\\n",
    "155*a + 161*b - 43*c - 38*d \\le 0 \\\\\n",
    "169*a + 157*b - 44*c - 35*d \\le 0 \\\\\n",
    "51*c + 38*d = 1\\\\\n",
    "a,b,c,d >=0\n",
    "$\n"
   ]
  },
  {
   "cell_type": "code",
   "execution_count": 10,
   "metadata": {},
   "outputs": [],
   "source": [
    "model = LpProblem(name=\"small-problem\", sense=LpMaximize)\n"
   ]
  },
  {
   "cell_type": "code",
   "execution_count": 11,
   "metadata": {},
   "outputs": [],
   "source": [
    "a = LpVariable(name=\"a\", lowBound=0)\n",
    "b = LpVariable(name=\"b\", lowBound=0)\n",
    "c = LpVariable(name=\"c\", lowBound=0)\n",
    "d = LpVariable(name=\"d\", lowBound=0)"
   ]
  },
  {
   "cell_type": "code",
   "execution_count": 12,
   "metadata": {},
   "outputs": [],
   "source": [
    "model += 243*a + 167*b - 60*c - 45*d <= 0\n",
    "model += 173*a + 158*b - 43*c - 33*d <= 0\n",
    "model += 216*a + 138*b - 53*c - 43*d <= 0\n",
    "model += 155*a + 161*b - 43*c - 38*d <= 0\n",
    "model += 169*a + 157*b - 44*c - 35*d <= 0\n",
    "model += 51*c + 38*d == 1"
   ]
  },
  {
   "cell_type": "code",
   "execution_count": 13,
   "metadata": {},
   "outputs": [],
   "source": [
    "model+= (169*a + 119*b)"
   ]
  },
  {
   "cell_type": "code",
   "execution_count": 14,
   "metadata": {},
   "outputs": [],
   "source": [
    "status = model.solve()"
   ]
  },
  {
   "cell_type": "code",
   "execution_count": 15,
   "metadata": {},
   "outputs": [
    {
     "data": {
      "text/plain": [
       "1"
      ]
     },
     "execution_count": 15,
     "metadata": {},
     "output_type": "execute_result"
    }
   ],
   "source": [
    "status"
   ]
  },
  {
   "cell_type": "code",
   "execution_count": 88,
   "metadata": {},
   "outputs": [
    {
     "data": {
      "text/plain": [
       "0.82543740098"
      ]
     },
     "execution_count": 88,
     "metadata": {},
     "output_type": "execute_result"
    }
   ],
   "source": [
    "model.objective.value()"
   ]
  },
  {
   "cell_type": "code",
   "execution_count": 89,
   "metadata": {},
   "outputs": [
    {
     "name": "stdout",
     "output_type": "stream",
     "text": [
      "a: 0.0044279646\n",
      "b: 0.00064799482\n",
      "c: 0.0\n",
      "d: 0.026315789\n"
     ]
    }
   ],
   "source": [
    "for var in model.variables():\n",
    "    print(f\"{var.name}: {var.value()}\")"
   ]
  },
  {
   "cell_type": "code",
   "execution_count": 91,
   "metadata": {},
   "outputs": [
    {
     "data": {
      "text/plain": [
       "0.82543740098"
      ]
     },
     "execution_count": 91,
     "metadata": {},
     "output_type": "execute_result"
    }
   ],
   "source": [
    "169*0.0044279646  + 119 * 0.00064799482"
   ]
  },
  {
   "cell_type": "code",
   "execution_count": 90,
   "metadata": {},
   "outputs": [
    {
     "name": "stdout",
     "output_type": "stream",
     "text": [
      "243*a + 167*b - 60*c - 45*d <= 0: 0.64348101\n",
      "173*a + 158*b - 43*c - 33*d <= 0: 0.07302957\n",
      "216*a + 138*b - 53*c - 43*d <= 0: -0.0\n",
      "155*a + 161*b - 43*c - 38*d <= 0: -0.0\n",
      "169*a + 157*b - 44*c - 35*d <= 0: -0.0\n",
      "51*c + 38*d = 1: 0.8254374\n"
     ]
    }
   ],
   "source": [
    "for (name, constraint) in model.constraints.items():\n",
    "    print(f\"{constraint}: {constraint.pi}\")"
   ]
  },
  {
   "cell_type": "code",
   "execution_count": 84,
   "metadata": {},
   "outputs": [
    {
     "name": "stdout",
     "output_type": "stream",
     "text": [
      "Shadow price for _C1: 0.64348101\n",
      "Shadow price for _C2: 0.07302957\n",
      "Shadow price for _C3: -0.0\n",
      "Shadow price for _C4: -0.0\n",
      "Shadow price for _C5: -0.0\n",
      "Shadow price for _C6: 0.8254374\n"
     ]
    }
   ],
   "source": [
    "for name, c in model.constraints.items():\n",
    "    print(f\"Shadow price for {name}:\", c.pi)"
   ]
  },
  {
   "cell_type": "code",
   "execution_count": 87,
   "metadata": {},
   "outputs": [
    {
     "data": {
      "text/plain": [
       "9.250999999999998"
      ]
     },
     "execution_count": 87,
     "metadata": {},
     "output_type": "execute_result"
    }
   ],
   "source": [
    "51 - (60*0.6435+43*0.073)"
   ]
  },
  {
   "cell_type": "code",
   "execution_count": 62,
   "metadata": {},
   "outputs": [
    {
     "name": "stdout",
     "output_type": "stream",
     "text": [
      "x\n",
      "y\n"
     ]
    }
   ],
   "source": [
    "import pulp\n",
    "\n",
    "# Khởi tạo bài toán\n",
    "prob = pulp.LpProblem(\"ExampleProblem\", pulp.LpMaximize)\n",
    "\n",
    "# Tạo biến\n",
    "x = pulp.LpVariable(\"x\", lowBound=0)\n",
    "y = pulp.LpVariable(\"y\", lowBound=0)\n",
    "\n",
    "# Thêm hàm mục tiêu và ràng buộc (ví dụ)\n",
    "prob += x + y, \"Objective Function\"\n",
    "prob += x <= 5, \"Constraint1\"\n",
    "prob += y <= 2, \"Constraint2\"\n",
    "prob += x - y <=2\n",
    "# Giải bài toán\n",
    "prob.solve()\n",
    "\n",
    "# Lấy danh sách các biến\n",
    "variables_list = prob.variables()\n",
    "\n",
    "# In danh sách các biến\n",
    "for var in variables_list:\n",
    "    print(var.name)"
   ]
  },
  {
   "cell_type": "code",
   "execution_count": 63,
   "metadata": {},
   "outputs": [
    {
     "name": "stdout",
     "output_type": "stream",
     "text": [
      "x: 4.0\n",
      "y: 2.0\n"
     ]
    }
   ],
   "source": [
    "for var in prob.variables():\n",
    "    print(f\"{var.name}: {var.value()}\")"
   ]
  },
  {
   "cell_type": "code",
   "execution_count": 64,
   "metadata": {},
   "outputs": [
    {
     "data": {
      "text/plain": [
       "6.0"
      ]
     },
     "execution_count": 64,
     "metadata": {},
     "output_type": "execute_result"
    }
   ],
   "source": [
    "prob.objective.value()"
   ]
  },
  {
   "cell_type": "code",
   "execution_count": 65,
   "metadata": {},
   "outputs": [
    {
     "name": "stdout",
     "output_type": "stream",
     "text": [
      "x <= 5: -0.0\n",
      "y <= 2: 2.0\n",
      "x - y <= 2: 1.0\n"
     ]
    }
   ],
   "source": [
    "for (name, constraint) in prob.constraints.items():\n",
    "    print(f\"{constraint}: {constraint.pi}\")"
   ]
  },
  {
   "cell_type": "code",
   "execution_count": 70,
   "metadata": {},
   "outputs": [
    {
     "data": {
      "text/plain": [
       "3"
      ]
     },
     "execution_count": 70,
     "metadata": {},
     "output_type": "execute_result"
    }
   ],
   "source": [
    "2+1"
   ]
  },
  {
   "cell_type": "code",
   "execution_count": 83,
   "metadata": {},
   "outputs": [
    {
     "name": "stdout",
     "output_type": "stream",
     "text": [
      "Optimal value of Z = 15.0\n",
      "x = 5.0\n",
      "y = 0.0\n",
      "Shadow price for the constraint: 3.0\n"
     ]
    }
   ],
   "source": [
    "import pulp\n",
    "\n",
    "# Khởi tạo bài toán\n",
    "prob = pulp.LpProblem(\"DualExample\", pulp.LpMaximize)\n",
    "\n",
    "# Tạo biến\n",
    "x = pulp.LpVariable(\"x\", lowBound=0)\n",
    "y = pulp.LpVariable(\"y\", lowBound=0)\n",
    "\n",
    "# Thêm hàm mục tiêu\n",
    "prob += 3*x + 2*y, \"Objective Function\"\n",
    "\n",
    "# Thêm ràng buộc\n",
    "prob += x + 2*y <= 5, \"Constraint\"\n",
    "\n",
    "# Giải bài toán\n",
    "prob.solve()\n",
    "\n",
    "# In kết quả\n",
    "print(\"Optimal value of Z =\", pulp.value(prob.objective))\n",
    "print(\"x =\", x.varValue)\n",
    "print(\"y =\", y.varValue)\n",
    "\n",
    "# In shadow price của ràng buộc\n",
    "print(\"Shadow price for the constraint:\", prob.constraints[\"Constraint\"].pi)"
   ]
  },
  {
   "cell_type": "code",
   "execution_count": 72,
   "metadata": {},
   "outputs": [
    {
     "ename": "AttributeError",
     "evalue": "'LpConstraint' object has no attribute 'changeUpper'",
     "output_type": "error",
     "traceback": [
      "\u001b[1;31m---------------------------------------------------------------------------\u001b[0m",
      "\u001b[1;31mAttributeError\u001b[0m                            Traceback (most recent call last)",
      "Cell \u001b[1;32mIn[72], line 1\u001b[0m\n\u001b[1;32m----> 1\u001b[0m \u001b[43mprob\u001b[49m\u001b[38;5;241;43m.\u001b[39;49m\u001b[43mconstraints\u001b[49m\u001b[43m[\u001b[49m\u001b[38;5;124;43m\"\u001b[39;49m\u001b[38;5;124;43mConstraint\u001b[39;49m\u001b[38;5;124;43m\"\u001b[39;49m\u001b[43m]\u001b[49m\u001b[38;5;241;43m.\u001b[39;49m\u001b[43mchangeUpper\u001b[49m(\u001b[38;5;241m3\u001b[39m)\n\u001b[0;32m      3\u001b[0m \u001b[38;5;66;03m# Giải lại bài toán\u001b[39;00m\n\u001b[0;32m      4\u001b[0m prob\u001b[38;5;241m.\u001b[39msolve()\n",
      "\u001b[1;31mAttributeError\u001b[0m: 'LpConstraint' object has no attribute 'changeUpper'"
     ]
    }
   ],
   "source": [
    "prob.constraints[\"Constraint\"].changeUpper(3)\n",
    "\n",
    "# Giải lại bài toán\n",
    "prob.solve()\n",
    "\n",
    "# In kết quả\n",
    "print(\"New optimal value of Z after decreasing constraint:\", pulp.value(prob.objective))"
   ]
  },
  {
   "cell_type": "code",
   "execution_count": 93,
   "metadata": {},
   "outputs": [
    {
     "data": {
      "image/png": "[encoded data removed]",
      "text/plain": [
       "<Figure size 800x600 with 1 Axes>"
      ]
     },
     "metadata": {},
     "output_type": "display_data"
    }
   ],
   "source": [
    "import matplotlib.pyplot as plt\n",
    "import numpy as np\n",
    "\n",
    "# Giả định dữ liệu hiệu suất (đơn vị đo lường ở đây là chỉ số hiệu suất)\n",
    "performance_data = {\n",
    "    'Unit1': [0.8, 0.7],\n",
    "    'Unit2': [0.6, 0.5],\n",
    "    'Unit3': [0.7, 0.6],\n",
    "    'Unit4': [0.9, 0.8],\n",
    "    # ... thêm dữ liệu cho các đơn vị khác\n",
    "}\n",
    "\n",
    "# Tính toán đường envelopment (ở đây chúng ta chỉ minh họa)\n",
    "# Trong thực tế, bạn cần áp dụng thuật toán DEA để tính toán đường này.\n",
    "envelopment = np.array([[0.5, 0.4], [0.9, 0.7]])\n",
    "\n",
    "# Vẽ đường envelopment\n",
    "plt.figure(figsize=(8, 6))\n",
    "plt.scatter([x[0] for x in performance_data.values()], [x[1] for x in performance_data.values()], label='Units')\n",
    "plt.plot(envelopment[:, 0], envelopment[:, 1], label='Envelopment', color='red', linestyle='--')\n",
    "plt.title('Efficiency Envelopment')\n",
    "plt.xlabel('Input Efficiency')\n",
    "plt.ylabel('Output Efficiency')\n",
    "plt.legend()\n",
    "plt.grid(True)\n",
    "plt.show()"
   ]
  },
  {
   "cell_type": "code",
   "execution_count": null,
   "metadata": {},
   "outputs": [],
   "source": []
  }
 ],
 "metadata": {
  "kernelspec": {
   "display_name": "base",
   "language": "python",
   "name": "python3"
  },
  "language_info": {
   "codemirror_mode": {
    "name": "ipython",
    "version": 3
   },
   "file_extension": ".py",
   "mimetype": "text/x-python",
   "name": "python",
   "nbconvert_exporter": "python",
   "pygments_lexer": "ipython3",
   "version": "3.10.9"
  }
 },
 "nbformat": 4,
 "nbformat_minor": 2
}
