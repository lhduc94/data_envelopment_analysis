{
 "cells": [
  {
   "cell_type": "code",
   "execution_count": 2,
   "metadata": {},
   "outputs": [],
   "source": [
    "from pulp import LpMaximize, LpProblem, LpStatus, lpSum, LpVariable\n",
    "import pandas as pd"
   ]
  },
  {
   "cell_type": "code",
   "execution_count": 4,
   "metadata": {},
   "outputs": [],
   "source": [
    "df = pd.DataFrame({\n",
    "    'Store Location':['Delhi', 'Mumbai', 'Bangalore','Chennai', 'Kolkata', 'Hyderabad'],\n",
    "    'Number of Employees':[51, 60, 43, 53, 43, 44],\n",
    "    'Management Time/Week': [38, 45, 33, 43, 38, 35],\n",
    "    'Number of Dresses Sold/Week': [169, 243, 173, 216, 155, 169],\n",
    "    'Number of Accessories Sold/Week': [119, 167, 158, 138, 161, 157]})"
   ]
  },
  {
   "cell_type": "code",
   "execution_count": 13,
   "metadata": {},
   "outputs": [
    {
     "data": {
      "text/html": [
       "<div>\n",
       "<style scoped>\n",
       "    .dataframe tbody tr th:only-of-type {\n",
       "        vertical-align: middle;\n",
       "    }\n",
       "\n",
       "    .dataframe tbody tr th {\n",
       "        vertical-align: top;\n",
       "    }\n",
       "\n",
       "    .dataframe thead th {\n",
       "        text-align: right;\n",
       "    }\n",
       "</style>\n",
       "<table border=\"1\" class=\"dataframe\">\n",
       "  <thead>\n",
       "    <tr style=\"text-align: right;\">\n",
       "      <th></th>\n",
       "      <th>Store Location</th>\n",
       "      <th>Number of Employees</th>\n",
       "      <th>Management Time/Week</th>\n",
       "      <th>Number of Dresses Sold/Week</th>\n",
       "      <th>Number of Accessories Sold/Week</th>\n",
       "    </tr>\n",
       "  </thead>\n",
       "  <tbody>\n",
       "    <tr>\n",
       "      <th>0</th>\n",
       "      <td>Delhi</td>\n",
       "      <td>51</td>\n",
       "      <td>38</td>\n",
       "      <td>169</td>\n",
       "      <td>119</td>\n",
       "    </tr>\n",
       "    <tr>\n",
       "      <th>1</th>\n",
       "      <td>Mumbai</td>\n",
       "      <td>60</td>\n",
       "      <td>45</td>\n",
       "      <td>243</td>\n",
       "      <td>167</td>\n",
       "    </tr>\n",
       "    <tr>\n",
       "      <th>2</th>\n",
       "      <td>Bangalore</td>\n",
       "      <td>43</td>\n",
       "      <td>33</td>\n",
       "      <td>173</td>\n",
       "      <td>158</td>\n",
       "    </tr>\n",
       "    <tr>\n",
       "      <th>3</th>\n",
       "      <td>Chennai</td>\n",
       "      <td>53</td>\n",
       "      <td>43</td>\n",
       "      <td>216</td>\n",
       "      <td>138</td>\n",
       "    </tr>\n",
       "    <tr>\n",
       "      <th>4</th>\n",
       "      <td>Kolkata</td>\n",
       "      <td>43</td>\n",
       "      <td>38</td>\n",
       "      <td>155</td>\n",
       "      <td>161</td>\n",
       "    </tr>\n",
       "    <tr>\n",
       "      <th>5</th>\n",
       "      <td>Hyderabad</td>\n",
       "      <td>44</td>\n",
       "      <td>35</td>\n",
       "      <td>169</td>\n",
       "      <td>157</td>\n",
       "    </tr>\n",
       "  </tbody>\n",
       "</table>\n",
       "</div>"
      ],
      "text/plain": [
       "  Store Location  Number of Employees  Management Time/Week  \\\n",
       "0          Delhi                   51                    38   \n",
       "1         Mumbai                   60                    45   \n",
       "2      Bangalore                   43                    33   \n",
       "3        Chennai                   53                    43   \n",
       "4        Kolkata                   43                    38   \n",
       "5      Hyderabad                   44                    35   \n",
       "\n",
       "   Number of Dresses Sold/Week  Number of Accessories Sold/Week  \n",
       "0                          169                              119  \n",
       "1                          243                              167  \n",
       "2                          173                              158  \n",
       "3                          216                              138  \n",
       "4                          155                              161  \n",
       "5                          169                              157  "
      ]
     },
     "execution_count": 13,
     "metadata": {},
     "output_type": "execute_result"
    }
   ],
   "source": [
    "df"
   ]
  },
  {
   "cell_type": "code",
   "execution_count": 19,
   "metadata": {},
   "outputs": [],
   "source": [
    "model = LpProblem(name=\"small-problem\", sense=LpMaximize)\n",
    "Inputs = [\"Number of Employees\", 'Management Time/Week']\n",
    "Outputs = [\"Number of Dresses Sold/Week\", \"Number of Accessories Sold/Week\"]"
   ]
  },
  {
   "cell_type": "code",
   "execution_count": 20,
   "metadata": {},
   "outputs": [],
   "source": [
    "Inputs_Variables = []\n",
    "Outputs_Variables = []\n",
    "for input in Inputs:\n",
    "    var = LpVariable(name=input, lowBound=0)\n",
    "    Inputs_Variables.append(var)\n",
    "for output in Outputs:\n",
    "    var = LpVariable(name=output, lowBound=0)\n",
    "    Outputs_Variables.append(var)"
   ]
  },
  {
   "cell_type": "code",
   "execution_count": 62,
   "metadata": {},
   "outputs": [],
   "source": [
    "df['Inputs'] = df.apply(lambda x: lpSum([var * x[name] for (var, name) in zip(Inputs_Variables, Inputs)]), axis=1)\n",
    "df['Outputs'] = df.apply(lambda x: lpSum([var * x[name] for (var, name) in zip(Outputs_Variables, Outputs)]), axis=1)\n",
    "df['Outputs - Inputs'] = df.apply(lambda x: x['Outputs'] - x['Inputs'] <= 0, axis=1)\n",
    "df['Inputs_St'] = df['Inputs'].apply(lambda x: x==1)"
   ]
  },
  {
   "cell_type": "code",
   "execution_count": 110,
   "metadata": {},
   "outputs": [],
   "source": [
    "k = 0\n",
    "def solve(k):\n",
    "    pis = []\n",
    "    model = LpProblem(name=f\"small-problem_{k}\", sense=LpMaximize)\n",
    "    for i,sj in enumerate(df['Outputs - Inputs'].values):\n",
    "        if i!=k:\n",
    "            model += sj\n",
    "    model+= df['Inputs_St'].values[k]\n",
    "    model+= df['Outputs'].values[k]\n",
    "    status = model.solve()\n",
    "    for (name, constraint) in model.constraints.items():\n",
    "        # print(f\"{constraint}: {constraint.pi}\")\n",
    "        pis.append(constraint.pi)\n",
    "    pis.insert(k, 0)\n",
    "    return status, model.objective.value(), model, pis"
   ]
  },
  {
   "cell_type": "code",
   "execution_count": 126,
   "metadata": {},
   "outputs": [
    {
     "data": {
      "text/plain": [
       "[-0.0, -0.0, 0.85459411, -0.0, 0.13648528, 0, 0.96855486]"
      ]
     },
     "execution_count": 126,
     "metadata": {},
     "output_type": "execute_result"
    }
   ],
   "source": [
    "pis"
   ]
  },
  {
   "cell_type": "code",
   "execution_count": 127,
   "metadata": {},
   "outputs": [
    {
     "name": "stdout",
     "output_type": "stream",
     "text": [
      "==================================================\n",
      "1 0.82543740098 [0, 0.64348101, 0.07302957, -0.0, -0.0, -0.0, 0.8254374]\n",
      "==================================================\n",
      "1 1.0300578029999998 [-0.0, 0, 1.4046243, -0.0, -0.0, -0.0, 1.0300578]\n",
      "==================================================\n",
      "1 1.0782482327 [-0.0, 0.046232877, 0, -0.0, -0.0, 0.95719178, 1.0782482]\n",
      "==================================================\n",
      "1 1.0062893088 [-0.0, 0.88888889, -0.0, 0, -0.0, -0.0, 1.0062893]\n",
      "==================================================\n",
      "1 1.0189873379 [-0.0, -0.0, 1.0189873, -0.0, 0, -0.0, 1.0189873]\n",
      "==================================================\n",
      "1 0.9685548570499999 [-0.0, -0.0, 0.85459411, -0.0, 0.13648528, 0, 0.96855486]\n"
     ]
    }
   ],
   "source": [
    "models = []\n",
    "datas =[]\n",
    "for i in range(6):\n",
    "    dx = []\n",
    "    status, val, model, pis = solve(i)\n",
    "    print('='*50)\n",
    "    print(status, val, pis)\n",
    "    dx = pis\n",
    "    models.append(model)\n",
    "    datas.append(dx)"
   ]
  },
  {
   "cell_type": "code",
   "execution_count": 138,
   "metadata": {},
   "outputs": [],
   "source": [
    "output = pd.DataFrame(datas,columns=df['Store Location'].to_list() +['DMU'])"
   ]
  },
  {
   "cell_type": "code",
   "execution_count": 140,
   "metadata": {},
   "outputs": [],
   "source": [
    "output['Store Location'] = df['Store Location']"
   ]
  },
  {
   "cell_type": "code",
   "execution_count": 142,
   "metadata": {},
   "outputs": [],
   "source": [
    "output = output[['Store Location', 'DMU']+df['Store Location'].to_list()]"
   ]
  },
  {
   "cell_type": "code",
   "execution_count": 143,
   "metadata": {},
   "outputs": [
    {
     "data": {
      "text/html": [
       "<div>\n",
       "<style scoped>\n",
       "    .dataframe tbody tr th:only-of-type {\n",
       "        vertical-align: middle;\n",
       "    }\n",
       "\n",
       "    .dataframe tbody tr th {\n",
       "        vertical-align: top;\n",
       "    }\n",
       "\n",
       "    .dataframe thead th {\n",
       "        text-align: right;\n",
       "    }\n",
       "</style>\n",
       "<table border=\"1\" class=\"dataframe\">\n",
       "  <thead>\n",
       "    <tr style=\"text-align: right;\">\n",
       "      <th></th>\n",
       "      <th>Store Location</th>\n",
       "      <th>DMU</th>\n",
       "      <th>Delhi</th>\n",
       "      <th>Mumbai</th>\n",
       "      <th>Bangalore</th>\n",
       "      <th>Chennai</th>\n",
       "      <th>Kolkata</th>\n",
       "      <th>Hyderabad</th>\n",
       "    </tr>\n",
       "  </thead>\n",
       "  <tbody>\n",
       "    <tr>\n",
       "      <th>0</th>\n",
       "      <td>Delhi</td>\n",
       "      <td>0.825437</td>\n",
       "      <td>0.0</td>\n",
       "      <td>0.643481</td>\n",
       "      <td>0.073030</td>\n",
       "      <td>-0.0</td>\n",
       "      <td>-0.000000</td>\n",
       "      <td>-0.000000</td>\n",
       "    </tr>\n",
       "    <tr>\n",
       "      <th>1</th>\n",
       "      <td>Mumbai</td>\n",
       "      <td>1.030058</td>\n",
       "      <td>-0.0</td>\n",
       "      <td>0.000000</td>\n",
       "      <td>1.404624</td>\n",
       "      <td>-0.0</td>\n",
       "      <td>-0.000000</td>\n",
       "      <td>-0.000000</td>\n",
       "    </tr>\n",
       "    <tr>\n",
       "      <th>2</th>\n",
       "      <td>Bangalore</td>\n",
       "      <td>1.078248</td>\n",
       "      <td>-0.0</td>\n",
       "      <td>0.046233</td>\n",
       "      <td>0.000000</td>\n",
       "      <td>-0.0</td>\n",
       "      <td>-0.000000</td>\n",
       "      <td>0.957192</td>\n",
       "    </tr>\n",
       "    <tr>\n",
       "      <th>3</th>\n",
       "      <td>Chennai</td>\n",
       "      <td>1.006289</td>\n",
       "      <td>-0.0</td>\n",
       "      <td>0.888889</td>\n",
       "      <td>-0.000000</td>\n",
       "      <td>0.0</td>\n",
       "      <td>-0.000000</td>\n",
       "      <td>-0.000000</td>\n",
       "    </tr>\n",
       "    <tr>\n",
       "      <th>4</th>\n",
       "      <td>Kolkata</td>\n",
       "      <td>1.018987</td>\n",
       "      <td>-0.0</td>\n",
       "      <td>-0.000000</td>\n",
       "      <td>1.018987</td>\n",
       "      <td>-0.0</td>\n",
       "      <td>0.000000</td>\n",
       "      <td>-0.000000</td>\n",
       "    </tr>\n",
       "    <tr>\n",
       "      <th>5</th>\n",
       "      <td>Hyderabad</td>\n",
       "      <td>0.968555</td>\n",
       "      <td>-0.0</td>\n",
       "      <td>-0.000000</td>\n",
       "      <td>0.854594</td>\n",
       "      <td>-0.0</td>\n",
       "      <td>0.136485</td>\n",
       "      <td>0.000000</td>\n",
       "    </tr>\n",
       "  </tbody>\n",
       "</table>\n",
       "</div>"
      ],
      "text/plain": [
       "  Store Location       DMU  Delhi    Mumbai  Bangalore  Chennai   Kolkata  \\\n",
       "0          Delhi  0.825437    0.0  0.643481   0.073030     -0.0 -0.000000   \n",
       "1         Mumbai  1.030058   -0.0  0.000000   1.404624     -0.0 -0.000000   \n",
       "2      Bangalore  1.078248   -0.0  0.046233   0.000000     -0.0 -0.000000   \n",
       "3        Chennai  1.006289   -0.0  0.888889  -0.000000      0.0 -0.000000   \n",
       "4        Kolkata  1.018987   -0.0 -0.000000   1.018987     -0.0  0.000000   \n",
       "5      Hyderabad  0.968555   -0.0 -0.000000   0.854594     -0.0  0.136485   \n",
       "\n",
       "   Hyderabad  \n",
       "0  -0.000000  \n",
       "1  -0.000000  \n",
       "2   0.957192  \n",
       "3  -0.000000  \n",
       "4  -0.000000  \n",
       "5   0.000000  "
      ]
     },
     "execution_count": 143,
     "metadata": {},
     "output_type": "execute_result"
    }
   ],
   "source": [
    "output"
   ]
  },
  {
   "cell_type": "code",
   "execution_count": null,
   "metadata": {},
   "outputs": [],
   "source": []
  }
 ],
 "metadata": {
  "kernelspec": {
   "display_name": "base",
   "language": "python",
   "name": "python3"
  },
  "language_info": {
   "codemirror_mode": {
    "name": "ipython",
    "version": 3
   },
   "file_extension": ".py",
   "mimetype": "text/x-python",
   "name": "python",
   "nbconvert_exporter": "python",
   "pygments_lexer": "ipython3",
   "version": "3.10.9"
  }
 },
 "nbformat": 4,
 "nbformat_minor": 2
}
