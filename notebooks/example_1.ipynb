{
 "cells": [
  {
   "cell_type": "code",
   "execution_count": 7,
   "metadata": {},
   "outputs": [],
   "source": [
    "import pandas as pd\n",
    "from pulp import LpProblem, LpMinimize, LpVariable, lpSum, value\n",
    "import csv"
   ]
  },
  {
   "cell_type": "code",
   "execution_count": 3,
   "metadata": {},
   "outputs": [],
   "source": [
    "K = [\"A\", \"B\", \"C\", \"D\", \"E\", \"F\", \"G\", \"H\", \"I\", \"J\", \"K\", \"L\", \"M\"]\n",
    "I = [\"Aircraft\", \"Fuel\", \"Employee\"]\n",
    "J = [\"Passenger\", \"Freight\"]\n",
    "\n",
    "# Parameters building\n",
    "X = { \n",
    "    i: {\n",
    "        k: 0 for k in K\n",
    "    } for i in I\n",
    "}\n",
    "Y = { \n",
    "    j: {\n",
    "        k: 0 for k in K\n",
    "    } for j in J\n",
    "}"
   ]
  },
  {
   "cell_type": "code",
   "execution_count": 4,
   "metadata": {},
   "outputs": [
    {
     "data": {
      "text/plain": [
       "{'Aircraft': {'A': 0,\n",
       "  'B': 0,\n",
       "  'C': 0,\n",
       "  'D': 0,\n",
       "  'E': 0,\n",
       "  'F': 0,\n",
       "  'G': 0,\n",
       "  'H': 0,\n",
       "  'I': 0,\n",
       "  'J': 0,\n",
       "  'K': 0,\n",
       "  'L': 0,\n",
       "  'M': 0},\n",
       " 'Fuel': {'A': 0,\n",
       "  'B': 0,\n",
       "  'C': 0,\n",
       "  'D': 0,\n",
       "  'E': 0,\n",
       "  'F': 0,\n",
       "  'G': 0,\n",
       "  'H': 0,\n",
       "  'I': 0,\n",
       "  'J': 0,\n",
       "  'K': 0,\n",
       "  'L': 0,\n",
       "  'M': 0},\n",
       " 'Employee': {'A': 0,\n",
       "  'B': 0,\n",
       "  'C': 0,\n",
       "  'D': 0,\n",
       "  'E': 0,\n",
       "  'F': 0,\n",
       "  'G': 0,\n",
       "  'H': 0,\n",
       "  'I': 0,\n",
       "  'J': 0,\n",
       "  'K': 0,\n",
       "  'L': 0,\n",
       "  'M': 0}}"
      ]
     },
     "execution_count": 4,
     "metadata": {},
     "output_type": "execute_result"
    }
   ],
   "source": [
    "X"
   ]
  },
  {
   "cell_type": "code",
   "execution_count": 8,
   "metadata": {},
   "outputs": [],
   "source": [
    "with open('../data/airlines_data.csv', newline='') as csvfile:\n",
    "    rows = csv.DictReader(csvfile)\n",
    "    k = 0\n",
    "    for row in rows:\n",
    "        for i in I:\n",
    "            X[i][K[k]] = float(row[i]) \n",
    "        for j in J:\n",
    "            Y[j][K[k]] = float(row[j])\n",
    "        k += 1"
   ]
  },
  {
   "cell_type": "code",
   "execution_count": 9,
   "metadata": {},
   "outputs": [],
   "source": [
    "df = pd.read_csv(\"../data/airlines_data.csv\")"
   ]
  },
  {
   "cell_type": "code",
   "execution_count": 10,
   "metadata": {},
   "outputs": [
    {
     "data": {
      "text/html": [
       "<div>\n",
       "<style scoped>\n",
       "    .dataframe tbody tr th:only-of-type {\n",
       "        vertical-align: middle;\n",
       "    }\n",
       "\n",
       "    .dataframe tbody tr th {\n",
       "        vertical-align: top;\n",
       "    }\n",
       "\n",
       "    .dataframe thead th {\n",
       "        text-align: right;\n",
       "    }\n",
       "</style>\n",
       "<table border=\"1\" class=\"dataframe\">\n",
       "  <thead>\n",
       "    <tr style=\"text-align: right;\">\n",
       "      <th></th>\n",
       "      <th>Aircraft</th>\n",
       "      <th>Fuel</th>\n",
       "      <th>Employee</th>\n",
       "      <th>Passenger</th>\n",
       "      <th>Freight</th>\n",
       "    </tr>\n",
       "  </thead>\n",
       "  <tbody>\n",
       "    <tr>\n",
       "      <th>0</th>\n",
       "      <td>109</td>\n",
       "      <td>392</td>\n",
       "      <td>8259</td>\n",
       "      <td>23756</td>\n",
       "      <td>870</td>\n",
       "    </tr>\n",
       "    <tr>\n",
       "      <th>1</th>\n",
       "      <td>115</td>\n",
       "      <td>381</td>\n",
       "      <td>9628</td>\n",
       "      <td>24183</td>\n",
       "      <td>1359</td>\n",
       "    </tr>\n",
       "    <tr>\n",
       "      <th>2</th>\n",
       "      <td>767</td>\n",
       "      <td>2673</td>\n",
       "      <td>70923</td>\n",
       "      <td>163483</td>\n",
       "      <td>12449</td>\n",
       "    </tr>\n",
       "    <tr>\n",
       "      <th>3</th>\n",
       "      <td>90</td>\n",
       "      <td>282</td>\n",
       "      <td>9683</td>\n",
       "      <td>10370</td>\n",
       "      <td>509</td>\n",
       "    </tr>\n",
       "    <tr>\n",
       "      <th>4</th>\n",
       "      <td>461</td>\n",
       "      <td>1608</td>\n",
       "      <td>40630</td>\n",
       "      <td>99047</td>\n",
       "      <td>3726</td>\n",
       "    </tr>\n",
       "    <tr>\n",
       "      <th>5</th>\n",
       "      <td>628</td>\n",
       "      <td>2074</td>\n",
       "      <td>47420</td>\n",
       "      <td>128635</td>\n",
       "      <td>9214</td>\n",
       "    </tr>\n",
       "    <tr>\n",
       "      <th>6</th>\n",
       "      <td>81</td>\n",
       "      <td>75</td>\n",
       "      <td>7115</td>\n",
       "      <td>11962</td>\n",
       "      <td>536</td>\n",
       "    </tr>\n",
       "    <tr>\n",
       "      <th>7</th>\n",
       "      <td>153</td>\n",
       "      <td>458</td>\n",
       "      <td>10177</td>\n",
       "      <td>32436</td>\n",
       "      <td>1462</td>\n",
       "    </tr>\n",
       "    <tr>\n",
       "      <th>8</th>\n",
       "      <td>455</td>\n",
       "      <td>1722</td>\n",
       "      <td>29124</td>\n",
       "      <td>83862</td>\n",
       "      <td>6337</td>\n",
       "    </tr>\n",
       "    <tr>\n",
       "      <th>9</th>\n",
       "      <td>103</td>\n",
       "      <td>400</td>\n",
       "      <td>8987</td>\n",
       "      <td>14618</td>\n",
       "      <td>785</td>\n",
       "    </tr>\n",
       "    <tr>\n",
       "      <th>10</th>\n",
       "      <td>547</td>\n",
       "      <td>1217</td>\n",
       "      <td>34680</td>\n",
       "      <td>99636</td>\n",
       "      <td>6597</td>\n",
       "    </tr>\n",
       "    <tr>\n",
       "      <th>11</th>\n",
       "      <td>560</td>\n",
       "      <td>2532</td>\n",
       "      <td>51536</td>\n",
       "      <td>135480</td>\n",
       "      <td>10928</td>\n",
       "    </tr>\n",
       "    <tr>\n",
       "      <th>12</th>\n",
       "      <td>423</td>\n",
       "      <td>1303</td>\n",
       "      <td>32683</td>\n",
       "      <td>74106</td>\n",
       "      <td>4258</td>\n",
       "    </tr>\n",
       "  </tbody>\n",
       "</table>\n",
       "</div>"
      ],
      "text/plain": [
       "    Aircraft  Fuel  Employee  Passenger  Freight\n",
       "0        109   392      8259      23756      870\n",
       "1        115   381      9628      24183     1359\n",
       "2        767  2673     70923     163483    12449\n",
       "3         90   282      9683      10370      509\n",
       "4        461  1608     40630      99047     3726\n",
       "5        628  2074     47420     128635     9214\n",
       "6         81    75      7115      11962      536\n",
       "7        153   458     10177      32436     1462\n",
       "8        455  1722     29124      83862     6337\n",
       "9        103   400      8987      14618      785\n",
       "10       547  1217     34680      99636     6597\n",
       "11       560  2532     51536     135480    10928\n",
       "12       423  1303     32683      74106     4258"
      ]
     },
     "execution_count": 10,
     "metadata": {},
     "output_type": "execute_result"
    }
   ],
   "source": [
    "df"
   ]
  },
  {
   "cell_type": "code",
   "execution_count": 11,
   "metadata": {},
   "outputs": [],
   "source": [
    "model = LpProblem('CRS_model', LpMinimize)"
   ]
  },
  {
   "cell_type": "code",
   "execution_count": 12,
   "metadata": {},
   "outputs": [
    {
     "name": "stderr",
     "output_type": "stream",
     "text": [
      "C:\\Users\\duclh3\\AppData\\Local\\Temp\\ipykernel_19348\\3699632885.py:2: DeprecationWarning: 'indexs' is deprecated; use 'indices'.\n",
      "  lambda_k = LpVariable.dicts(f'lambda_k', lowBound=0, indexs=K)\n"
     ]
    }
   ],
   "source": [
    "theta_r = LpVariable(f'theta_r')\n",
    "lambda_k = LpVariable.dicts(f'lambda_k', lowBound=0, indexs=K)"
   ]
  },
  {
   "cell_type": "code",
   "execution_count": 14,
   "metadata": {},
   "outputs": [],
   "source": [
    "model += theta_r"
   ]
  },
  {
   "cell_type": "code",
   "execution_count": 15,
   "metadata": {},
   "outputs": [
    {
     "data": {
      "text/plain": [
       "{'A': lambda_k_A,\n",
       " 'B': lambda_k_B,\n",
       " 'C': lambda_k_C,\n",
       " 'D': lambda_k_D,\n",
       " 'E': lambda_k_E,\n",
       " 'F': lambda_k_F,\n",
       " 'G': lambda_k_G,\n",
       " 'H': lambda_k_H,\n",
       " 'I': lambda_k_I,\n",
       " 'J': lambda_k_J,\n",
       " 'K': lambda_k_K,\n",
       " 'L': lambda_k_L,\n",
       " 'M': lambda_k_M}"
      ]
     },
     "execution_count": 15,
     "metadata": {},
     "output_type": "execute_result"
    }
   ],
   "source": [
    "lambda_k"
   ]
  },
  {
   "cell_type": "code",
   "execution_count": 16,
   "metadata": {},
   "outputs": [
    {
     "data": {
      "text/html": [
       "<div>\n",
       "<style scoped>\n",
       "    .dataframe tbody tr th:only-of-type {\n",
       "        vertical-align: middle;\n",
       "    }\n",
       "\n",
       "    .dataframe tbody tr th {\n",
       "        vertical-align: top;\n",
       "    }\n",
       "\n",
       "    .dataframe thead th {\n",
       "        text-align: right;\n",
       "    }\n",
       "</style>\n",
       "<table border=\"1\" class=\"dataframe\">\n",
       "  <thead>\n",
       "    <tr style=\"text-align: right;\">\n",
       "      <th></th>\n",
       "      <th>Aircraft</th>\n",
       "      <th>Fuel</th>\n",
       "      <th>Employee</th>\n",
       "      <th>Passenger</th>\n",
       "      <th>Freight</th>\n",
       "    </tr>\n",
       "  </thead>\n",
       "  <tbody>\n",
       "    <tr>\n",
       "      <th>0</th>\n",
       "      <td>109</td>\n",
       "      <td>392</td>\n",
       "      <td>8259</td>\n",
       "      <td>23756</td>\n",
       "      <td>870</td>\n",
       "    </tr>\n",
       "    <tr>\n",
       "      <th>1</th>\n",
       "      <td>115</td>\n",
       "      <td>381</td>\n",
       "      <td>9628</td>\n",
       "      <td>24183</td>\n",
       "      <td>1359</td>\n",
       "    </tr>\n",
       "    <tr>\n",
       "      <th>2</th>\n",
       "      <td>767</td>\n",
       "      <td>2673</td>\n",
       "      <td>70923</td>\n",
       "      <td>163483</td>\n",
       "      <td>12449</td>\n",
       "    </tr>\n",
       "    <tr>\n",
       "      <th>3</th>\n",
       "      <td>90</td>\n",
       "      <td>282</td>\n",
       "      <td>9683</td>\n",
       "      <td>10370</td>\n",
       "      <td>509</td>\n",
       "    </tr>\n",
       "    <tr>\n",
       "      <th>4</th>\n",
       "      <td>461</td>\n",
       "      <td>1608</td>\n",
       "      <td>40630</td>\n",
       "      <td>99047</td>\n",
       "      <td>3726</td>\n",
       "    </tr>\n",
       "    <tr>\n",
       "      <th>5</th>\n",
       "      <td>628</td>\n",
       "      <td>2074</td>\n",
       "      <td>47420</td>\n",
       "      <td>128635</td>\n",
       "      <td>9214</td>\n",
       "    </tr>\n",
       "    <tr>\n",
       "      <th>6</th>\n",
       "      <td>81</td>\n",
       "      <td>75</td>\n",
       "      <td>7115</td>\n",
       "      <td>11962</td>\n",
       "      <td>536</td>\n",
       "    </tr>\n",
       "    <tr>\n",
       "      <th>7</th>\n",
       "      <td>153</td>\n",
       "      <td>458</td>\n",
       "      <td>10177</td>\n",
       "      <td>32436</td>\n",
       "      <td>1462</td>\n",
       "    </tr>\n",
       "    <tr>\n",
       "      <th>8</th>\n",
       "      <td>455</td>\n",
       "      <td>1722</td>\n",
       "      <td>29124</td>\n",
       "      <td>83862</td>\n",
       "      <td>6337</td>\n",
       "    </tr>\n",
       "    <tr>\n",
       "      <th>9</th>\n",
       "      <td>103</td>\n",
       "      <td>400</td>\n",
       "      <td>8987</td>\n",
       "      <td>14618</td>\n",
       "      <td>785</td>\n",
       "    </tr>\n",
       "    <tr>\n",
       "      <th>10</th>\n",
       "      <td>547</td>\n",
       "      <td>1217</td>\n",
       "      <td>34680</td>\n",
       "      <td>99636</td>\n",
       "      <td>6597</td>\n",
       "    </tr>\n",
       "    <tr>\n",
       "      <th>11</th>\n",
       "      <td>560</td>\n",
       "      <td>2532</td>\n",
       "      <td>51536</td>\n",
       "      <td>135480</td>\n",
       "      <td>10928</td>\n",
       "    </tr>\n",
       "    <tr>\n",
       "      <th>12</th>\n",
       "      <td>423</td>\n",
       "      <td>1303</td>\n",
       "      <td>32683</td>\n",
       "      <td>74106</td>\n",
       "      <td>4258</td>\n",
       "    </tr>\n",
       "  </tbody>\n",
       "</table>\n",
       "</div>"
      ],
      "text/plain": [
       "    Aircraft  Fuel  Employee  Passenger  Freight\n",
       "0        109   392      8259      23756      870\n",
       "1        115   381      9628      24183     1359\n",
       "2        767  2673     70923     163483    12449\n",
       "3         90   282      9683      10370      509\n",
       "4        461  1608     40630      99047     3726\n",
       "5        628  2074     47420     128635     9214\n",
       "6         81    75      7115      11962      536\n",
       "7        153   458     10177      32436     1462\n",
       "8        455  1722     29124      83862     6337\n",
       "9        103   400      8987      14618      785\n",
       "10       547  1217     34680      99636     6597\n",
       "11       560  2532     51536     135480    10928\n",
       "12       423  1303     32683      74106     4258"
      ]
     },
     "execution_count": 16,
     "metadata": {},
     "output_type": "execute_result"
    }
   ],
   "source": [
    "df"
   ]
  },
  {
   "cell_type": "code",
   "execution_count": 46,
   "metadata": {},
   "outputs": [],
   "source": [
    "# CRS_DEA_Model        \n",
    "def getOverallEfficiency(r):\n",
    "\n",
    "    # Model Building\n",
    "    model = LpProblem('CRS_model', LpMinimize) # 建立一個新的model，命名為model\n",
    "    \n",
    "    # Decision variables Building\n",
    "    theta_r = LpVariable(f'theta_r')\n",
    "    lambda_k = LpVariable.dicts(f'lambda_k', lowBound=0, indexs=K)\n",
    "    \n",
    "    # Objective Function setting\n",
    "    model += theta_r\n",
    "    \n",
    "    # Constraints setting\n",
    "    for i in I:\n",
    "        model += lpSum([\n",
    "                lambda_k[k] * X[i][k]\n",
    "            for k in K]) <= theta_r * float(X[i][K[r]])\n",
    "    for j in J:\n",
    "        model += lpSum([\n",
    "                lambda_k[k] * Y[j][k]\n",
    "            for k in K]) >= float(Y[j][K[r]])\n",
    "    # Model solving\n",
    "    model.solve()\n",
    "    \n",
    "    return f'{K[r]}: {round(value(model.objective), 3)}\\n', value(model.objective)\n"
   ]
  },
  {
   "cell_type": "code",
   "execution_count": 44,
   "metadata": {},
   "outputs": [
    {
     "data": {
      "text/plain": [
       "{'A': 109.0,\n",
       " 'B': 115.0,\n",
       " 'C': 767.0,\n",
       " 'D': 90.0,\n",
       " 'E': 461.0,\n",
       " 'F': 628.0,\n",
       " 'G': 81.0,\n",
       " 'H': 153.0,\n",
       " 'I': 455.0,\n",
       " 'J': 103.0,\n",
       " 'K': 547.0,\n",
       " 'L': 560.0,\n",
       " 'M': 423.0}"
      ]
     },
     "execution_count": 44,
     "metadata": {},
     "output_type": "execute_result"
    }
   ],
   "source": [
    "X['Aircraft']"
   ]
  },
  {
   "cell_type": "code",
   "execution_count": 41,
   "metadata": {},
   "outputs": [
    {
     "data": {
      "text/plain": [
       "theta_r"
      ]
     },
     "execution_count": 41,
     "metadata": {},
     "output_type": "execute_result"
    }
   ],
   "source": [
    "theta_r"
   ]
  },
  {
   "cell_type": "code",
   "execution_count": 20,
   "metadata": {},
   "outputs": [],
   "source": [
    "# VRS_DEA_Model\n",
    "def getTechnicalEfficiency(r):\n",
    "\n",
    "    # Model Building \n",
    "    model = LpProblem('VRS_model', LpMinimize) # 建立一個新的model，命名為model\n",
    "    \n",
    "    # Decision variables Building \n",
    "    theta_r = LpVariable(f'theta_r')\n",
    "    lambda_k = LpVariable.dicts(f'lambda_k', lowBound=0, indexs = K)\n",
    "    \n",
    "    # Objective Function setting\n",
    "    model += theta_r\n",
    "    \n",
    "    # Constraints setting\n",
    "    for i in I:\n",
    "        model += lpSum([\n",
    "                lambda_k[k] * X[i][k]\n",
    "            for k in K]) <= theta_r * float(X[i][K[r]])\n",
    "    for j in J:\n",
    "        model += lpSum([\n",
    "                lambda_k[k] * Y[j][k]\n",
    "            for k in K]) >= float(Y[j][K[r]])\n",
    "    model += lpSum([ lambda_k[k] for k in K]) == 1\n",
    "    \n",
    "    # model solving \n",
    "    model.solve()  \n",
    "    \n",
    "    return f'{K[r]}：{round(value(model.objective), 3)}\\n', value(model.objective)"
   ]
  },
  {
   "cell_type": "code",
   "execution_count": 47,
   "metadata": {},
   "outputs": [
    {
     "name": "stdout",
     "output_type": "stream",
     "text": [
      "('B: 0.968\\n', 0.96840307)\n"
     ]
    },
    {
     "name": "stderr",
     "output_type": "stream",
     "text": [
      "C:\\Users\\duclh3\\AppData\\Local\\Temp\\ipykernel_19348\\1349532392.py:9: DeprecationWarning: 'indexs' is deprecated; use 'indices'.\n",
      "  lambda_k = LpVariable.dicts(f'lambda_k', lowBound=0, indexs=K)\n"
     ]
    }
   ],
   "source": [
    "print(getOverallEfficiency(1))"
   ]
  },
  {
   "cell_type": "code",
   "execution_count": 48,
   "metadata": {},
   "outputs": [
    {
     "name": "stderr",
     "output_type": "stream",
     "text": [
      "C:\\Users\\duclh3\\AppData\\Local\\Temp\\ipykernel_19348\\1349532392.py:9: DeprecationWarning: 'indexs' is deprecated; use 'indices'.\n",
      "  lambda_k = LpVariable.dicts(f'lambda_k', lowBound=0, indexs=K)\n"
     ]
    },
    {
     "name": "stdout",
     "output_type": "stream",
     "text": [
      "These are OE of all DMUs\n",
      "-------------\n",
      "A: 0.978\n",
      "B: 0.968\n",
      "C: 1.0\n",
      "D: 0.537\n",
      "E: 0.969\n",
      "F: 0.978\n",
      "G: 1.0\n",
      "H: 1.0\n",
      "I: 1.0\n",
      "J: 0.619\n",
      "K: 1.0\n",
      "L: 1.0\n",
      "M: 0.835\n",
      "\n",
      "These are TE of all DMUs\n",
      "-------------\n",
      "A：1.0\n",
      "B：1.0\n",
      "C：1.0\n",
      "D：0.9\n",
      "E：0.996\n",
      "F：1.0\n",
      "G：1.0\n",
      "H：1.0\n",
      "I：1.0\n",
      "J：0.886\n",
      "K：1.0\n",
      "L：1.0\n",
      "M：0.849\n",
      "\n",
      "These are SE of all DMUs\n",
      "-------------\n",
      "A：0.978\n",
      "B：0.968\n",
      "C：1.0\n",
      "D：0.597\n",
      "E：0.973\n",
      "F：0.978\n",
      "G：1.0\n",
      "H：1.0\n",
      "I：1.0\n",
      "J：0.698\n",
      "K：1.0\n",
      "L：1.0\n",
      "M：0.984\n",
      "\n"
     ]
    }
   ],
   "source": [
    "OE_outputText = 'These are OE of all DMUs\\n-------------\\n'\n",
    "TE_outputText = 'These are TE of all DMUs\\n-------------\\n'\n",
    "SE_outputText = 'These are SE of all DMUs\\n-------------\\n'\n",
    "\n",
    "for k in range(len(K)):\n",
    "    OE_text, OE_val = getOverallEfficiency(k)\n",
    "    TE_text, TE_val = getTechnicalEfficiency(k)\n",
    "    OE_outputText += OE_text\n",
    "    TE_outputText += TE_text\n",
    "    SE_outputText += f'{K[k]}：{round(OE_val / TE_val, 3)}\\n'\n",
    "print(OE_outputText)\n",
    "print(TE_outputText)\n",
    "print(SE_outputText)"
   ]
  },
  {
   "cell_type": "code",
   "execution_count": null,
   "metadata": {},
   "outputs": [],
   "source": []
  }
 ],
 "metadata": {
  "kernelspec": {
   "display_name": "base",
   "language": "python",
   "name": "python3"
  },
  "language_info": {
   "codemirror_mode": {
    "name": "ipython",
    "version": 3
   },
   "file_extension": ".py",
   "mimetype": "text/x-python",
   "name": "python",
   "nbconvert_exporter": "python",
   "pygments_lexer": "ipython3",
   "version": "3.10.9"
  }
 },
 "nbformat": 4,
 "nbformat_minor": 2
}
