{
 "cells": [
  {
   "cell_type": "code",
   "execution_count": 7,
   "metadata": {},
   "outputs": [],
   "source": [
    "import pandas as pd\n",
    "from pulp import LpProblem, LpMinimize, LpVariable, lpSum, value\n",
    "import csv"
   ]
  },
  {
   "cell_type": "code",
   "execution_count": 3,
   "metadata": {},
   "outputs": [],
   "source": [
    "K = [\"A\", \"B\", \"C\", \"D\", \"E\", \"F\", \"G\", \"H\", \"I\", \"J\", \"K\", \"L\", \"M\"]\n",
    "I = [\"Aircraft\", \"Fuel\", \"Employee\"]\n",
    "J = [\"Passenger\", \"Freight\"]\n",
    "\n",
    "# Parameters building\n",
    "X = { \n",
    "    i: {\n",
    "        k: 0 for k in K\n",
    "    } for i in I\n",
    "}\n",
    "Y = { \n",
    "    j: {\n",
    "        k: 0 for k in K\n",
    "    } for j in J\n",
    "}"
   ]
  },
  {
   "cell_type": "code",
   "execution_count": 4,
   "metadata": {},
   "outputs": [
    {
     "data": {
      "text/plain": [
       "{'Aircraft': {'A': 0,\n",
       "  'B': 0,\n",
       "  'C': 0,\n",
       "  'D': 0,\n",
       "  'E': 0,\n",
       "  'F': 0,\n",
       "  'G': 0,\n",
       "  'H': 0,\n",
       "  'I': 0,\n",
       "  'J': 0,\n",
       "  'K': 0,\n",
       "  'L': 0,\n",
       "  'M': 0},\n",
       " 'Fuel': {'A': 0,\n",
       "  'B': 0,\n",
       "  'C': 0,\n",
       "  'D': 0,\n",
       "  'E': 0,\n",
       "  'F': 0,\n",
       "  'G': 0,\n",
       "  'H': 0,\n",
       "  'I': 0,\n",
       "  'J': 0,\n",
       "  'K': 0,\n",
       "  'L': 0,\n",
       "  'M': 0},\n",
       " 'Employee': {'A': 0,\n",
       "  'B': 0,\n",
       "  'C': 0,\n",
       "  'D': 0,\n",
       "  'E': 0,\n",
       "  'F': 0,\n",
       "  'G': 0,\n",
       "  'H': 0,\n",
       "  'I': 0,\n",
       "  'J': 0,\n",
       "  'K': 0,\n",
       "  'L': 0,\n",
       "  'M': 0}}"
      ]
     },
     "execution_count": 4,
     "metadata": {},
     "output_type": "execute_result"
    }
   ],
   "source": [
    "X"
   ]
  },
  {
   "cell_type": "code",
   "execution_count": 8,
   "metadata": {},
   "outputs": [],
   "source": [
    "with open('../data/airlines_data.csv', newline='') as csvfile:\n",
    "    rows = csv.DictReader(csvfile)\n",
    "    k = 0\n",
    "    for row in rows:\n",
    "        for i in I:\n",
    "            X[i][K[k]] = float(row[i]) \n",
    "        for j in J:\n",
    "            Y[j][K[k]] = float(row[j])\n",
    "        k += 1"
   ]
  },
  {
   "cell_type": "code",
   "execution_count": 9,
   "metadata": {},
   "outputs": [],
   "source": [
    "df = pd.read_csv(\"../data/airlines_data.csv\")"
   ]
  },
  {
   "cell_type": "code",
   "execution_count": 10,
   "metadata": {},
   "outputs": [
    {
     "data": {
      "text/html": [
       "<div>\n",
       "<style scoped>\n",
       "    .dataframe tbody tr th:only-of-type {\n",
       "        vertical-align: middle;\n",
       "    }\n",
       "\n",
       "    .dataframe tbody tr th {\n",
       "        vertical-align: top;\n",
       "    }\n",
       "\n",
       "    .dataframe thead th {\n",
       "        text-align: right;\n",
       "    }\n",
       "</style>\n",
       "<table border=\"1\" class=\"dataframe\">\n",
       "  <thead>\n",
       "    <tr style=\"text-align: right;\">\n",
       "      <th></th>\n",
       "      <th>Aircraft</th>\n",
       "      <th>Fuel</th>\n",
       "      <th>Employee</th>\n",
       "      <th>Passenger</th>\n",
       "      <th>Freight</th>\n",
       "    </tr>\n",
       "  </thead>\n",
       "  <tbody>\n",
       "    <tr>\n",
       "      <th>0</th>\n",
       "      <td>109</td>\n",
       "      <td>392</td>\n",
       "      <td>8259</td>\n",
       "      <td>23756</td>\n",
       "      <td>870</td>\n",
       "    </tr>\n",
       "    <tr>\n",
       "      <th>1</th>\n",
       "      <td>115</td>\n",
       "      <td>381</td>\n",
       "      <td>9628</td>\n",
       "      <td>24183</td>\n",
       "      <td>1359</td>\n",
       "    </tr>\n",
       "    <tr>\n",
       "      <th>2</th>\n",
       "      <td>767</td>\n",
       "      <td>2673</td>\n",
       "      <td>70923</td>\n",
       "      <td>163483</td>\n",
       "      <td>12449</td>\n",
       "    </tr>\n",
       "    <tr>\n",
       "      <th>3</th>\n",
       "      <td>90</td>\n",
       "      <td>282</td>\n",
       "      <td>9683</td>\n",
       "      <td>10370</td>\n",
       "      <td>509</td>\n",
       "    </tr>\n",
       "    <tr>\n",
       "      <th>4</th>\n",
       "      <td>461</td>\n",
       "      <td>1608</td>\n",
       "      <td>40630</td>\n",
       "      <td>99047</td>\n",
       "      <td>3726</td>\n",
       "    </tr>\n",
       "    <tr>\n",
       "      <th>5</th>\n",
       "      <td>628</td>\n",
       "      <td>2074</td>\n",
       "      <td>47420</td>\n",
       "      <td>128635</td>\n",
       "      <td>9214</td>\n",
       "    </tr>\n",
       "    <tr>\n",
       "      <th>6</th>\n",
       "      <td>81</td>\n",
       "      <td>75</td>\n",
       "      <td>7115</td>\n",
       "      <td>11962</td>\n",
       "      <td>536</td>\n",
       "    </tr>\n",
       "    <tr>\n",
       "      <th>7</th>\n",
       "      <td>153</td>\n",
       "      <td>458</td>\n",
       "      <td>10177</td>\n",
       "      <td>32436</td>\n",
       "      <td>1462</td>\n",
       "    </tr>\n",
       "    <tr>\n",
       "      <th>8</th>\n",
       "      <td>455</td>\n",
       "      <td>1722</td>\n",
       "      <td>29124</td>\n",
       "      <td>83862</td>\n",
       "      <td>6337</td>\n",
       "    </tr>\n",
       "    <tr>\n",
       "      <th>9</th>\n",
       "      <td>103</td>\n",
       "      <td>400</td>\n",
       "      <td>8987</td>\n",
       "      <td>14618</td>\n",
       "      <td>785</td>\n",
       "    </tr>\n",
       "    <tr>\n",
       "      <th>10</th>\n",
       "      <td>547</td>\n",
       "      <td>1217</td>\n",
       "      <td>34680</td>\n",
       "      <td>99636</td>\n",
       "      <td>6597</td>\n",
       "    </tr>\n",
       "    <tr>\n",
       "      <th>11</th>\n",
       "      <td>560</td>\n",
       "      <td>2532</td>\n",
       "      <td>51536</td>\n",
       "      <td>135480</td>\n",
       "      <td>10928</td>\n",
       "    </tr>\n",
       "    <tr>\n",
       "      <th>12</th>\n",
       "      <td>423</td>\n",
       "      <td>1303</td>\n",
       "      <td>32683</td>\n",
       "      <td>74106</td>\n",
       "      <td>4258</td>\n",
       "    </tr>\n",
       "  </tbody>\n",
       "</table>\n",
       "</div>"
      ],
      "text/plain": [
       "    Aircraft  Fuel  Employee  Passenger  Freight\n",
       "0        109   392      8259      23756      870\n",
       "1        115   381      9628      24183     1359\n",
       "2        767  2673     70923     163483    12449\n",
       "3         90   282      9683      10370      509\n",
       "4        461  1608     40630      99047     3726\n",
       "5        628  2074     47420     128635     9214\n",
       "6         81    75      7115      11962      536\n",
       "7        153   458     10177      32436     1462\n",
       "8        455  1722     29124      83862     6337\n",
       "9        103   400      8987      14618      785\n",
       "10       547  1217     34680      99636     6597\n",
       "11       560  2532     51536     135480    10928\n",
       "12       423  1303     32683      74106     4258"
      ]
     },
     "execution_count": 10,
     "metadata": {},
     "output_type": "execute_result"
    }
   ],
   "source": [
    "df"
   ]
  },
  {
   "cell_type": "code",
   "execution_count": 11,
   "metadata": {},
   "outputs": [],
   "source": [
    "model = LpProblem('CRS_model', LpMinimize)"
   ]
  },
  {
   "cell_type": "code",
   "execution_count": 12,
   "metadata": {},
   "outputs": [
    {
     "name": "stderr",
     "output_type": "stream",
     "text": [
      "C:\\Users\\duclh3\\AppData\\Local\\Temp\\ipykernel_19348\\3699632885.py:2: DeprecationWarning: 'indexs' is deprecated; use 'indices'.\n",
      "  lambda_k = LpVariable.dicts(f'lambda_k', lowBound=0, indexs=K)\n"
     ]
    }
   ],
   "source": [
    "theta_r = LpVariable(f'theta_r')\n",
    "lambda_k = LpVariable.dicts(f'lambda_k', lowBound=0, indexs=K)"
   ]
  },
  {
   "cell_type": "code",
   "execution_count": 14,
   "metadata": {},
   "outputs": [],
   "source": [
    "model += theta_r"
   ]
  },
  {
   "cell_type": "code",
   "execution_count": 15,
   "metadata": {},
   "outputs": [
    {
     "data": {
      "text/plain": [
       "{'A': lambda_k_A,\n",
       " 'B': lambda_k_B,\n",
       " 'C': lambda_k_C,\n",
       " 'D': lambda_k_D,\n",
       " 'E': lambda_k_E,\n",
       " 'F': lambda_k_F,\n",
       " 'G': lambda_k_G,\n",
       " 'H': lambda_k_H,\n",
       " 'I': lambda_k_I,\n",
       " 'J': lambda_k_J,\n",
       " 'K': lambda_k_K,\n",
       " 'L': lambda_k_L,\n",
       " 'M': lambda_k_M}"
      ]
     },
     "execution_count": 15,
     "metadata": {},
     "output_type": "execute_result"
    }
   ],
   "source": [
    "lambda_k"
   ]
  },
  {
   "cell_type": "code",
   "execution_count": 16,
   "metadata": {},
   "outputs": [
    {
     "data": {
      "text/html": [
       "<div>\n",
       "<style scoped>\n",
       "    .dataframe tbody tr th:only-of-type {\n",
       "        vertical-align: middle;\n",
       "    }\n",
       "\n",
       "    .dataframe tbody tr th {\n",
       "        vertical-align: top;\n",
       "    }\n",
       "\n",
       "    .dataframe thead th {\n",
       "        text-align: right;\n",
       "    }\n",
       "</style>\n",
       "<table border=\"1\" class=\"dataframe\">\n",
       "  <thead>\n",
       "    <tr style=\"text-align: right;\">\n",
       "      <th></th>\n",
       "      <th>Aircraft</th>\n",
       "      <th>Fuel</th>\n",
       "      <th>Employee</th>\n",
       "      <th>Passenger</th>\n",
       "      <th>Freight</th>\n",
       "    </tr>\n",
       "  </thead>\n",
       "  <tbody>\n",
       "    <tr>\n",
       "      <th>0</th>\n",
       "      <td>109</td>\n",
       "      <td>392</td>\n",
       "      <td>8259</td>\n",
       "      <td>23756</td>\n",
       "      <td>870</td>\n",
       "    </tr>\n",
       "    <tr>\n",
       "      <th>1</th>\n",
       "      <td>115</td>\n",
       "      <td>381</td>\n",
       "      <td>9628</td>\n",
       "      <td>24183</td>\n",
       "      <td>1359</td>\n",
       "    </tr>\n",
       "    <tr>\n",
       "      <th>2</th>\n",
       "      <td>767</td>\n",
       "      <td>2673</td>\n",
       "      <td>70923</td>\n",
       "      <td>163483</td>\n",
       "      <td>12449</td>\n",
       "    </tr>\n",
       "    <tr>\n",
       "      <th>3</th>\n",
       "      <td>90</td>\n",
       "      <td>282</td>\n",
       "      <td>9683</td>\n",
       "      <td>10370</td>\n",
       "      <td>509</td>\n",
       "    </tr>\n",
       "    <tr>\n",
       "      <th>4</th>\n",
       "      <td>461</td>\n",
       "      <td>1608</td>\n",
       "      <td>40630</td>\n",
       "      <td>99047</td>\n",
       "      <td>3726</td>\n",
       "    </tr>\n",
       "    <tr>\n",
       "      <th>5</th>\n",
       "      <td>628</td>\n",
       "      <td>2074</td>\n",
       "      <td>47420</td>\n",
       "      <td>128635</td>\n",
       "      <td>9214</td>\n",
       "    </tr>\n",
       "    <tr>\n",
       "      <th>6</th>\n",
       "      <td>81</td>\n",
       "      <td>75</td>\n",
       "      <td>7115</td>\n",
       "      <td>11962</td>\n",
       "      <td>536</td>\n",
       "    </tr>\n",
       "    <tr>\n",
       "      <th>7</th>\n",
       "      <td>153</td>\n",
       "      <td>458</td>\n",
       "      <td>10177</td>\n",
       "      <td>32436</td>\n",
       "      <td>1462</td>\n",
       "    </tr>\n",
       "    <tr>\n",
       "      <th>8</th>\n",
       "      <td>455</td>\n",
       "      <td>1722</td>\n",
       "      <td>29124</td>\n",
       "      <td>83862</td>\n",
       "      <td>6337</td>\n",
       "    </tr>\n",
       "    <tr>\n",
       "      <th>9</th>\n",
       "      <td>103</td>\n",
       "      <td>400</td>\n",
       "      <td>8987</td>\n",
       "      <td>14618</td>\n",
       "      <td>785</td>\n",
       "    </tr>\n",
       "    <tr>\n",
       "      <th>10</th>\n",
       "      <td>547</td>\n",
       "      <td>1217</td>\n",
       "      <td>34680</td>\n",
       "      <td>99636</td>\n",
       "      <td>6597</td>\n",
       "    </tr>\n",
       "    <tr>\n",
       "      <th>11</th>\n",
       "      <td>560</td>\n",
       "      <td>2532</td>\n",
       "      <td>51536</td>\n",
       "      <td>135480</td>\n",
       "      <td>10928</td>\n",
       "    </tr>\n",
       "    <tr>\n",
       "      <th>12</th>\n",
       "      <td>423</td>\n",
       "      <td>1303</td>\n",
       "      <td>32683</td>\n",
       "      <td>74106</td>\n",
       "      <td>4258</td>\n",
       "    </tr>\n",
       "  </tbody>\n",
       "</table>\n",
       "</div>"
      ],
      "text/plain": [
       "    Aircraft  Fuel  Employee  Passenger  Freight\n",
       "0        109   392      8259      23756      870\n",
       "1        115   381      9628      24183     1359\n",
       "2        767  2673     70923     163483    12449\n",
       "3         90   282      9683      10370      509\n",
       "4        461  1608     40630      99047     3726\n",
       "5        628  2074     47420     128635     9214\n",
       "6         81    75      7115      11962      536\n",
       "7        153   458     10177      32436     1462\n",
       "8        455  1722     29124      83862     6337\n",
       "9        103   400      8987      14618      785\n",
       "10       547  1217     34680      99636     6597\n",
       "11       560  2532     51536     135480    10928\n",
       "12       423  1303     32683      74106     4258"
      ]
     },
     "execution_count": 16,
     "metadata": {},
     "output_type": "execute_result"
    }
   ],
   "source": [
    "df"
   ]
  },
  {
   "cell_type": "code",
   "execution_count": 38,
   "metadata": {},
   "outputs": [],
   "source": [
    "# CRS_DEA_Model        \n",
    "def getOverallEfficiency(r):\n",
    "\n",
    "    # Model Building\n",
    "    model = LpProblem('CRS_model', LpMinimize) # 建立一個新的model，命名為model\n",
    "    \n",
    "    # Decision variables Building\n",
    "    theta_r = LpVariable(f'theta_r')\n",
    "    lambda_k = LpVariable.dicts(f'lambda_k', lowBound=0, indexs=K)\n",
    "    \n",
    "    # Objective Function setting\n",
    "    model += theta_r\n",
    "    \n",
    "    # Constraints setting\n",
    "    for i in I:\n",
    "        model += lpSum([\n",
    "                lambda_k[k] * X[i][k]\n",
    "            for k in K]) <= theta_r * float(X[i][K[r]])\n",
    "    for j in J:\n",
    "        model += lpSum([\n",
    "                lambda_k[k] * Y[j][k]\n",
    "            for k in K]) >= float(Y[j][K[r]])\n",
    "    print(model)\n",
    "    # Model solving\n",
    "    model.solve()\n",
    "    \n",
    "    return f'{K[r]}: {round(value(model.objective), 3)}\\n', value(model.objective)\n"
   ]
  },
  {
   "cell_type": "code",
   "execution_count": 40,
   "metadata": {},
   "outputs": [
    {
     "name": "stdout",
     "output_type": "stream",
     "text": [
      "CRS_model:\n",
      "MINIMIZE\n",
      "1*theta_r + 0\n",
      "SUBJECT TO\n",
      "_C1: 109 lambda_k_A + 115 lambda_k_B + 767 lambda_k_C + 90 lambda_k_D\n",
      " + 461 lambda_k_E + 628 lambda_k_F + 81 lambda_k_G + 153 lambda_k_H\n",
      " + 455 lambda_k_I + 103 lambda_k_J + 547 lambda_k_K + 560 lambda_k_L\n",
      " + 423 lambda_k_M - 115 theta_r <= 0\n",
      "\n",
      "_C2: 392 lambda_k_A + 381 lambda_k_B + 2673 lambda_k_C + 282 lambda_k_D\n",
      " + 1608 lambda_k_E + 2074 lambda_k_F + 75 lambda_k_G + 458 lambda_k_H\n",
      " + 1722 lambda_k_I + 400 lambda_k_J + 1217 lambda_k_K + 2532 lambda_k_L\n",
      " + 1303 lambda_k_M - 381 theta_r <= 0\n",
      "\n",
      "_C3: 8259 lambda_k_A + 9628 lambda_k_B + 70923 lambda_k_C + 9683 lambda_k_D\n",
      " + 40630 lambda_k_E + 47420 lambda_k_F + 7115 lambda_k_G + 10177 lambda_k_H\n",
      " + 29124 lambda_k_I + 8987 lambda_k_J + 34680 lambda_k_K + 51536 lambda_k_L\n",
      " + 32683 lambda_k_M - 9628 theta_r <= 0\n",
      "\n",
      "_C4: 23756 lambda_k_A + 24183 lambda_k_B + 163483 lambda_k_C\n",
      " + 10370 lambda_k_D + 99047 lambda_k_E + 128635 lambda_k_F + 11962 lambda_k_G\n",
      " + 32436 lambda_k_H + 83862 lambda_k_I + 14618 lambda_k_J + 99636 lambda_k_K\n",
      " + 135480 lambda_k_L + 74106 lambda_k_M >= 24183\n",
      "\n",
      "_C5: 870 lambda_k_A + 1359 lambda_k_B + 12449 lambda_k_C + 509 lambda_k_D\n",
      " + 3726 lambda_k_E + 9214 lambda_k_F + 536 lambda_k_G + 1462 lambda_k_H\n",
      " + 6337 lambda_k_I + 785 lambda_k_J + 6597 lambda_k_K + 10928 lambda_k_L\n",
      " + 4258 lambda_k_M >= 1359\n",
      "\n",
      "VARIABLES\n",
      "lambda_k_A Continuous\n",
      "lambda_k_B Continuous\n",
      "lambda_k_C Continuous\n",
      "lambda_k_D Continuous\n",
      "lambda_k_E Continuous\n",
      "lambda_k_F Continuous\n",
      "lambda_k_G Continuous\n",
      "lambda_k_H Continuous\n",
      "lambda_k_I Continuous\n",
      "lambda_k_J Continuous\n",
      "lambda_k_K Continuous\n",
      "lambda_k_L Continuous\n",
      "lambda_k_M Continuous\n",
      "theta_r free Continuous\n",
      "\n"
     ]
    },
    {
     "name": "stderr",
     "output_type": "stream",
     "text": [
      "C:\\Users\\duclh3\\AppData\\Local\\Temp\\ipykernel_19348\\1132472900.py:9: DeprecationWarning: 'indexs' is deprecated; use 'indices'.\n",
      "  lambda_k = LpVariable.dicts(f'lambda_k', lowBound=0, indexs=K)\n"
     ]
    },
    {
     "data": {
      "text/plain": [
       "('B：0.968\\n', 0.96840307)"
      ]
     },
     "execution_count": 40,
     "metadata": {},
     "output_type": "execute_result"
    }
   ],
   "source": [
    "getOverallEfficiency(1)"
   ]
  },
  {
   "cell_type": "code",
   "execution_count": 20,
   "metadata": {},
   "outputs": [],
   "source": [
    "# VRS_DEA_Model\n",
    "def getTechnicalEfficiency(r):\n",
    "\n",
    "    # Model Building \n",
    "    model = LpProblem('VRS_model', LpMinimize) # 建立一個新的model，命名為model\n",
    "    \n",
    "    # Decision variables Building \n",
    "    theta_r = LpVariable(f'theta_r')\n",
    "    lambda_k = LpVariable.dicts(f'lambda_k', lowBound=0, indexs = K)\n",
    "    \n",
    "    # Objective Function setting\n",
    "    model += theta_r\n",
    "    \n",
    "    # Constraints setting\n",
    "    for i in I:\n",
    "        model += lpSum([\n",
    "                lambda_k[k] * X[i][k]\n",
    "            for k in K]) <= theta_r * float(X[i][K[r]])\n",
    "    for j in J:\n",
    "        model += lpSum([\n",
    "                lambda_k[k] * Y[j][k]\n",
    "            for k in K]) >= float(Y[j][K[r]])\n",
    "    model += lpSum([ lambda_k[k] for k in K]) == 1\n",
    "    \n",
    "    # model solving \n",
    "    model.solve()  \n",
    "    \n",
    "    return f'{K[r]}：{round(value(model.objective), 3)}\\n', value(model.objective)"
   ]
  },
  {
   "cell_type": "code",
   "execution_count": 36,
   "metadata": {},
   "outputs": [
    {
     "name": "stderr",
     "output_type": "stream",
     "text": [
      "C:\\Users\\duclh3\\AppData\\Local\\Temp\\ipykernel_19348\\3947460065.py:9: DeprecationWarning: 'indexs' is deprecated; use 'indices'.\n",
      "  lambda_k = LpVariable.dicts(f'lambda_k', lowBound=0, indexs=K)\n"
     ]
    },
    {
     "ename": "IndexError",
     "evalue": "list index out of range",
     "output_type": "error",
     "traceback": [
      "\u001b[1;31m---------------------------------------------------------------------------\u001b[0m",
      "\u001b[1;31mIndexError\u001b[0m                                Traceback (most recent call last)",
      "Cell \u001b[1;32mIn[36], line 1\u001b[0m\n\u001b[1;32m----> 1\u001b[0m \u001b[38;5;28mprint\u001b[39m(\u001b[43mgetOverallEfficiency\u001b[49m\u001b[43m(\u001b[49m\u001b[38;5;241;43m20\u001b[39;49m\u001b[43m)\u001b[49m)\n",
      "Cell \u001b[1;32mIn[19], line 18\u001b[0m, in \u001b[0;36mgetOverallEfficiency\u001b[1;34m(r)\u001b[0m\n\u001b[0;32m     14\u001b[0m \u001b[38;5;66;03m# Constraints setting\u001b[39;00m\n\u001b[0;32m     15\u001b[0m \u001b[38;5;28;01mfor\u001b[39;00m i \u001b[38;5;129;01min\u001b[39;00m I:\n\u001b[0;32m     16\u001b[0m     model \u001b[38;5;241m+\u001b[39m\u001b[38;5;241m=\u001b[39m lpSum([\n\u001b[0;32m     17\u001b[0m             lambda_k[k] \u001b[38;5;241m*\u001b[39m X[i][k]\n\u001b[1;32m---> 18\u001b[0m         \u001b[38;5;28;01mfor\u001b[39;00m k \u001b[38;5;129;01min\u001b[39;00m K]) \u001b[38;5;241m<\u001b[39m\u001b[38;5;241m=\u001b[39m theta_r \u001b[38;5;241m*\u001b[39m \u001b[38;5;28mfloat\u001b[39m(X[i][\u001b[43mK\u001b[49m\u001b[43m[\u001b[49m\u001b[43mr\u001b[49m\u001b[43m]\u001b[49m])\n\u001b[0;32m     19\u001b[0m \u001b[38;5;28;01mfor\u001b[39;00m j \u001b[38;5;129;01min\u001b[39;00m J:\n\u001b[0;32m     20\u001b[0m     model \u001b[38;5;241m+\u001b[39m\u001b[38;5;241m=\u001b[39m lpSum([\n\u001b[0;32m     21\u001b[0m             lambda_k[k] \u001b[38;5;241m*\u001b[39m Y[j][k]\n\u001b[0;32m     22\u001b[0m         \u001b[38;5;28;01mfor\u001b[39;00m k \u001b[38;5;129;01min\u001b[39;00m K]) \u001b[38;5;241m>\u001b[39m\u001b[38;5;241m=\u001b[39m \u001b[38;5;28mfloat\u001b[39m(Y[j][K[r]])\n",
      "\u001b[1;31mIndexError\u001b[0m: list index out of range"
     ]
    }
   ],
   "source": [
    "print(getOverallEfficiency(20))"
   ]
  },
  {
   "cell_type": "code",
   "execution_count": 27,
   "metadata": {},
   "outputs": [
    {
     "data": {
      "text/plain": [
       "'B'"
      ]
     },
     "execution_count": 27,
     "metadata": {},
     "output_type": "execute_result"
    }
   ],
   "source": [
    "K[1]"
   ]
  },
  {
   "cell_type": "code",
   "execution_count": null,
   "metadata": {},
   "outputs": [],
   "source": []
  }
 ],
 "metadata": {
  "kernelspec": {
   "display_name": "base",
   "language": "python",
   "name": "python3"
  },
  "language_info": {
   "codemirror_mode": {
    "name": "ipython",
    "version": 3
   },
   "file_extension": ".py",
   "mimetype": "text/x-python",
   "name": "python",
   "nbconvert_exporter": "python",
   "pygments_lexer": "ipython3",
   "version": "3.10.9"
  }
 },
 "nbformat": 4,
 "nbformat_minor": 2
}
